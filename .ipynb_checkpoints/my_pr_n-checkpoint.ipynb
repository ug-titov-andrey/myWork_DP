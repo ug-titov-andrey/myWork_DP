{
 "cells": [
  {
   "cell_type": "code",
   "execution_count": 1,
   "id": "ecd97f80",
   "metadata": {},
   "outputs": [],
   "source": [
    "import pandas as pd  \n",
    "import numpy as np\n",
    "import matplotlib.pyplot as plt\n",
    "import seaborn as sns\n",
    "from pylab import rcParams\n",
    "%matplotlib inline\n",
    "sns.set()\n",
    "rcParams['figure.figsize']=(16,8)\n"
   ]
  },
  {
   "cell_type": "markdown",
   "id": "dd305155",
   "metadata": {},
   "source": [
    "# Подготовка исходных данных"
   ]
  },
  {
   "cell_type": "code",
   "execution_count": 2,
   "id": "3ab4f576",
   "metadata": {},
   "outputs": [],
   "source": [
    "train_path = 'train.csv'\n",
    "test_path = 'test.csv'"
   ]
  },
  {
   "cell_type": "code",
   "execution_count": 3,
   "id": "51ae0b61",
   "metadata": {},
   "outputs": [],
   "source": [
    "df_train = pd.read_csv(train_path)\n",
    "X_test= pd.read_csv(test_path)\n",
    "df_train.head()\n",
    "id_out = X_test['Id']"
   ]
  },
  {
   "cell_type": "markdown",
   "id": "448e0c0f",
   "metadata": {},
   "source": [
    "##  Обзор исходных данных"
   ]
  },
  {
   "cell_type": "code",
   "execution_count": 4,
   "id": "dbe91c29",
   "metadata": {},
   "outputs": [
    {
     "name": "stdout",
     "output_type": "stream",
     "text": [
      "Число объектов \"тренировочной\" выборки  =>10000\n",
      "Число признаков \"тренировочной\" выборки  =>20\n"
     ]
    },
    {
     "data": {
      "text/plain": [
       "True"
      ]
     },
     "execution_count": 4,
     "metadata": {},
     "output_type": "execute_result"
    }
   ],
   "source": [
    "print(f'Число объектов \"тренировочной\" выборки  =>{df_train.shape[0]}')\n",
    "print(f'Число признаков \"тренировочной\" выборки  =>{df_train.shape[1]}')\n",
    "\n",
    "df_train.shape[1]-1==X_test.shape[1]"
   ]
  },
  {
   "cell_type": "markdown",
   "id": "ac85fd44",
   "metadata": {},
   "source": [
    "В тренировочной выборке на одну колонку больше, чем в проверочной. <br>\n",
    "Дополнительный столбец соответствует целевой пременной."
   ]
  },
  {
   "cell_type": "code",
   "execution_count": 5,
   "id": "64bdb107",
   "metadata": {},
   "outputs": [
    {
     "data": {
      "text/plain": [
       "Id                 int64\n",
       "DistrictId         int64\n",
       "Rooms            float64\n",
       "Square           float64\n",
       "LifeSquare       float64\n",
       "KitchenSquare    float64\n",
       "Floor              int64\n",
       "HouseFloor       float64\n",
       "HouseYear          int64\n",
       "Ecology_1        float64\n",
       "Ecology_2         object\n",
       "Ecology_3         object\n",
       "Social_1           int64\n",
       "Social_2           int64\n",
       "Social_3           int64\n",
       "Healthcare_1     float64\n",
       "Helthcare_2        int64\n",
       "Shops_1            int64\n",
       "Shops_2           object\n",
       "Price            float64\n",
       "dtype: object"
      ]
     },
     "execution_count": 5,
     "metadata": {},
     "output_type": "execute_result"
    }
   ],
   "source": [
    "df_train.dtypes"
   ]
  },
  {
   "cell_type": "markdown",
   "id": "b26a1ca1",
   "metadata": {},
   "source": [
    "Признаки Id (идентификационный номер квартиры) и DistrictId (идентификационный номер района) <br>\n",
    "    числовые. Вместе с тем они не несут в никакой числовой информации. преобразуем их к str-типу"
   ]
  },
  {
   "cell_type": "code",
   "execution_count": 6,
   "id": "4a2e6e5a",
   "metadata": {},
   "outputs": [],
   "source": [
    "df_train['Id'] = df_train['Id'].astype('str')\n",
    "df_train['DistrictId'] = df_train['DistrictId'].astype('str');"
   ]
  },
  {
   "cell_type": "markdown",
   "id": "9673bbf1",
   "metadata": {},
   "source": [
    "### Удаление пропусков\n",
    "Для этого возьмем разность от результата действия функции len(находит общее число строк для каждого признака) <br>\n",
    "и метода count (находит число ненулевых строк для каждого признака)"
   ]
  },
  {
   "cell_type": "code",
   "execution_count": 7,
   "id": "31b64f38",
   "metadata": {},
   "outputs": [
    {
     "data": {
      "text/plain": [
       "Id                  0\n",
       "DistrictId          0\n",
       "Rooms               0\n",
       "Square              0\n",
       "LifeSquare       2113\n",
       "KitchenSquare       0\n",
       "Floor               0\n",
       "HouseFloor          0\n",
       "HouseYear           0\n",
       "Ecology_1           0\n",
       "Ecology_2           0\n",
       "Ecology_3           0\n",
       "Social_1            0\n",
       "Social_2            0\n",
       "Social_3            0\n",
       "Healthcare_1     4798\n",
       "Helthcare_2         0\n",
       "Shops_1             0\n",
       "Shops_2             0\n",
       "Price               0\n",
       "dtype: int64"
      ]
     },
     "execution_count": 7,
     "metadata": {},
     "output_type": "execute_result"
    }
   ],
   "source": [
    "len(df_train) - df_train.count()"
   ]
  },
  {
   "cell_type": "markdown",
   "id": "6831b201",
   "metadata": {},
   "source": [
    "Все признаки, за исключением жилой площади и показателя местности, связанного со здоровьем, представлены полно.<br>\n",
    "Для заполнения ндостающих значений жилой площади, найдем среднее от разности полной площади, и суммы жилой площади  <br>\n",
    "и площади кухонь. Вычисления проводятся для ненулевых строк."
   ]
  },
  {
   "cell_type": "code",
   "execution_count": 8,
   "id": "365946de",
   "metadata": {},
   "outputs": [],
   "source": [
    "dif_square = (df_train.loc[df_train['LifeSquare'].notnull(), 'Square'] - \\\n",
    "              df_train.loc[df_train['LifeSquare'].notnull(), 'LifeSquare'] - \\\n",
    "              df_train.loc[df_train['LifeSquare'].notnull(), 'KitchenSquare'] ).mean()\n",
    "              "
   ]
  },
  {
   "cell_type": "code",
   "execution_count": 9,
   "id": "bad62f6b",
   "metadata": {},
   "outputs": [
    {
     "data": {
      "text/plain": [
       "37.19964482767308"
      ]
     },
     "execution_count": 9,
     "metadata": {},
     "output_type": "execute_result"
    }
   ],
   "source": [
    "df_train['LifeSquare'].mean()"
   ]
  },
  {
   "cell_type": "markdown",
   "id": "12d78fac",
   "metadata": {},
   "source": [
    "Разница небольшая. Поэтому нулевые значения признака LifeSquare моожно заменять <br>\n",
    "средним от разности соответсвующих строк  общей площади и площади кухонь."
   ]
  },
  {
   "cell_type": "code",
   "execution_count": 10,
   "id": "bc8bff61",
   "metadata": {},
   "outputs": [],
   "source": [
    "df_train.loc[df_train['LifeSquare'].isnull(), 'LifeSquare'] = \\\n",
    "                                              (df_train.loc[df_train['LifeSquare'].isnull(), 'Square'] - \\\n",
    "                                               df_train.loc[df_train['LifeSquare'].isnull(), 'KitchenSquare']).mean()\n"
   ]
  },
  {
   "cell_type": "markdown",
   "id": "e418c10d",
   "metadata": {},
   "source": [
    "Пропущенные значения Healthcare_1 заменим средними Ненулевыми значениями"
   ]
  },
  {
   "cell_type": "code",
   "execution_count": 11,
   "id": "74870edb",
   "metadata": {},
   "outputs": [],
   "source": [
    "df_train.loc[df_train['Healthcare_1'].isnull(), 'Healthcare_1'] = \\\n",
    "                                      (df_train.loc[df_train['Healthcare_1'].notnull(), 'Healthcare_1']).mean()"
   ]
  },
  {
   "cell_type": "markdown",
   "id": "b2bdf421",
   "metadata": {},
   "source": [
    "### Анализ целевой переменной\n",
    "Построим гистограмму с 25 бинами."
   ]
  },
  {
   "cell_type": "code",
   "execution_count": 12,
   "id": "3095be67",
   "metadata": {},
   "outputs": [
    {
     "data": {
      "image/png": "[encoded data removed]",
      "text/plain": [
       "<Figure size 1152x576 with 1 Axes>"
      ]
     },
     "metadata": {},
     "output_type": "display_data"
    }
   ],
   "source": [
    "plt.hist(df_train['Price'], bins=15)\n",
    "plt.xlabel('Стоимость')\n",
    "plt.ylabel('Число значений')\n",
    "plt.title('Гистограмма распределения целевого показателя');"
   ]
  },
  {
   "cell_type": "markdown",
   "id": "37a3ae5b",
   "metadata": {},
   "source": [
    "Гистограмма несиметрична, поэтому в качестве оценки среднего будет браться медиана. <br>\n",
    "Посмотрим на основные статистические показатели числовых признаков"
   ]
  },
  {
   "cell_type": "markdown",
   "id": "0b04e230",
   "metadata": {},
   "source": [
    "## Числовые признаки"
   ]
  },
  {
   "cell_type": "code",
   "execution_count": 13,
   "id": "f11540e7",
   "metadata": {},
   "outputs": [
    {
     "name": "stdout",
     "output_type": "stream",
     "text": [
      "['Rooms', 'Square', 'LifeSquare', 'KitchenSquare', 'Floor', 'HouseFloor', 'HouseYear', 'Ecology_1', 'Social_1', 'Social_2', 'Social_3', 'Healthcare_1', 'Helthcare_2', 'Shops_1', 'Price']\n"
     ]
    }
   ],
   "source": [
    "print(df_train.select_dtypes(include=['int64','float64']).columns.to_list())"
   ]
  },
  {
   "cell_type": "markdown",
   "id": "e51b3975",
   "metadata": {},
   "source": [
    "###  Обработка выбросов\n"
   ]
  },
  {
   "cell_type": "code",
   "execution_count": 14,
   "id": "3497d0e0",
   "metadata": {},
   "outputs": [
    {
     "data": {
      "text/html": [
       "<div>\n",
       "<style scoped>\n",
       "    .dataframe tbody tr th:only-of-type {\n",
       "        vertical-align: middle;\n",
       "    }\n",
       "\n",
       "    .dataframe tbody tr th {\n",
       "        vertical-align: top;\n",
       "    }\n",
       "\n",
       "    .dataframe thead th {\n",
       "        text-align: right;\n",
       "    }\n",
       "</style>\n",
       "<table border=\"1\" class=\"dataframe\">\n",
       "  <thead>\n",
       "    <tr style=\"text-align: right;\">\n",
       "      <th></th>\n",
       "      <th>Rooms</th>\n",
       "      <th>Square</th>\n",
       "      <th>LifeSquare</th>\n",
       "      <th>KitchenSquare</th>\n",
       "      <th>Floor</th>\n",
       "      <th>HouseFloor</th>\n",
       "      <th>HouseYear</th>\n",
       "      <th>Ecology_1</th>\n",
       "      <th>Social_1</th>\n",
       "      <th>Social_2</th>\n",
       "      <th>Social_3</th>\n",
       "      <th>Healthcare_1</th>\n",
       "      <th>Helthcare_2</th>\n",
       "      <th>Shops_1</th>\n",
       "      <th>Price</th>\n",
       "    </tr>\n",
       "  </thead>\n",
       "  <tbody>\n",
       "    <tr>\n",
       "      <th>count</th>\n",
       "      <td>10000.000000</td>\n",
       "      <td>10000.000000</td>\n",
       "      <td>10000.000000</td>\n",
       "      <td>10000.000000</td>\n",
       "      <td>10000.000000</td>\n",
       "      <td>10000.000000</td>\n",
       "      <td>1.000000e+04</td>\n",
       "      <td>10000.000000</td>\n",
       "      <td>10000.000000</td>\n",
       "      <td>10000.000000</td>\n",
       "      <td>10000.000000</td>\n",
       "      <td>10000.000000</td>\n",
       "      <td>10000.000000</td>\n",
       "      <td>10000.000000</td>\n",
       "      <td>10000.000000</td>\n",
       "    </tr>\n",
       "    <tr>\n",
       "      <th>mean</th>\n",
       "      <td>1.890500</td>\n",
       "      <td>56.315775</td>\n",
       "      <td>41.799474</td>\n",
       "      <td>6.273300</td>\n",
       "      <td>8.526700</td>\n",
       "      <td>12.609400</td>\n",
       "      <td>3.990166e+03</td>\n",
       "      <td>0.118858</td>\n",
       "      <td>24.687000</td>\n",
       "      <td>5352.157400</td>\n",
       "      <td>8.039200</td>\n",
       "      <td>1142.904460</td>\n",
       "      <td>1.319500</td>\n",
       "      <td>4.231300</td>\n",
       "      <td>214138.857399</td>\n",
       "    </tr>\n",
       "    <tr>\n",
       "      <th>std</th>\n",
       "      <td>0.839512</td>\n",
       "      <td>21.058732</td>\n",
       "      <td>77.102655</td>\n",
       "      <td>28.560917</td>\n",
       "      <td>5.241148</td>\n",
       "      <td>6.775974</td>\n",
       "      <td>2.005003e+05</td>\n",
       "      <td>0.119025</td>\n",
       "      <td>17.532614</td>\n",
       "      <td>4006.799803</td>\n",
       "      <td>23.831875</td>\n",
       "      <td>736.734238</td>\n",
       "      <td>1.493601</td>\n",
       "      <td>4.806341</td>\n",
       "      <td>92872.293865</td>\n",
       "    </tr>\n",
       "    <tr>\n",
       "      <th>min</th>\n",
       "      <td>0.000000</td>\n",
       "      <td>1.136859</td>\n",
       "      <td>0.370619</td>\n",
       "      <td>0.000000</td>\n",
       "      <td>1.000000</td>\n",
       "      <td>0.000000</td>\n",
       "      <td>1.910000e+03</td>\n",
       "      <td>0.000000</td>\n",
       "      <td>0.000000</td>\n",
       "      <td>168.000000</td>\n",
       "      <td>0.000000</td>\n",
       "      <td>0.000000</td>\n",
       "      <td>0.000000</td>\n",
       "      <td>0.000000</td>\n",
       "      <td>59174.778028</td>\n",
       "    </tr>\n",
       "    <tr>\n",
       "      <th>25%</th>\n",
       "      <td>1.000000</td>\n",
       "      <td>41.774881</td>\n",
       "      <td>25.527399</td>\n",
       "      <td>1.000000</td>\n",
       "      <td>4.000000</td>\n",
       "      <td>9.000000</td>\n",
       "      <td>1.974000e+03</td>\n",
       "      <td>0.017647</td>\n",
       "      <td>6.000000</td>\n",
       "      <td>1564.000000</td>\n",
       "      <td>0.000000</td>\n",
       "      <td>830.000000</td>\n",
       "      <td>0.000000</td>\n",
       "      <td>1.000000</td>\n",
       "      <td>153872.633942</td>\n",
       "    </tr>\n",
       "    <tr>\n",
       "      <th>50%</th>\n",
       "      <td>2.000000</td>\n",
       "      <td>52.513310</td>\n",
       "      <td>38.334514</td>\n",
       "      <td>6.000000</td>\n",
       "      <td>7.000000</td>\n",
       "      <td>13.000000</td>\n",
       "      <td>1.977000e+03</td>\n",
       "      <td>0.075424</td>\n",
       "      <td>25.000000</td>\n",
       "      <td>5285.000000</td>\n",
       "      <td>2.000000</td>\n",
       "      <td>1142.904460</td>\n",
       "      <td>1.000000</td>\n",
       "      <td>3.000000</td>\n",
       "      <td>192269.644879</td>\n",
       "    </tr>\n",
       "    <tr>\n",
       "      <th>75%</th>\n",
       "      <td>2.000000</td>\n",
       "      <td>65.900625</td>\n",
       "      <td>58.968832</td>\n",
       "      <td>9.000000</td>\n",
       "      <td>12.000000</td>\n",
       "      <td>17.000000</td>\n",
       "      <td>2.001000e+03</td>\n",
       "      <td>0.195781</td>\n",
       "      <td>36.000000</td>\n",
       "      <td>7227.000000</td>\n",
       "      <td>5.000000</td>\n",
       "      <td>1142.904460</td>\n",
       "      <td>2.000000</td>\n",
       "      <td>6.000000</td>\n",
       "      <td>249135.462171</td>\n",
       "    </tr>\n",
       "    <tr>\n",
       "      <th>max</th>\n",
       "      <td>19.000000</td>\n",
       "      <td>641.065193</td>\n",
       "      <td>7480.592129</td>\n",
       "      <td>2014.000000</td>\n",
       "      <td>42.000000</td>\n",
       "      <td>117.000000</td>\n",
       "      <td>2.005201e+07</td>\n",
       "      <td>0.521867</td>\n",
       "      <td>74.000000</td>\n",
       "      <td>19083.000000</td>\n",
       "      <td>141.000000</td>\n",
       "      <td>4849.000000</td>\n",
       "      <td>6.000000</td>\n",
       "      <td>23.000000</td>\n",
       "      <td>633233.466570</td>\n",
       "    </tr>\n",
       "  </tbody>\n",
       "</table>\n",
       "</div>"
      ],
      "text/plain": [
       "              Rooms        Square    LifeSquare  KitchenSquare         Floor  \\\n",
       "count  10000.000000  10000.000000  10000.000000   10000.000000  10000.000000   \n",
       "mean       1.890500     56.315775     41.799474       6.273300      8.526700   \n",
       "std        0.839512     21.058732     77.102655      28.560917      5.241148   \n",
       "min        0.000000      1.136859      0.370619       0.000000      1.000000   \n",
       "25%        1.000000     41.774881     25.527399       1.000000      4.000000   \n",
       "50%        2.000000     52.513310     38.334514       6.000000      7.000000   \n",
       "75%        2.000000     65.900625     58.968832       9.000000     12.000000   \n",
       "max       19.000000    641.065193   7480.592129    2014.000000     42.000000   \n",
       "\n",
       "         HouseFloor     HouseYear     Ecology_1      Social_1      Social_2  \\\n",
       "count  10000.000000  1.000000e+04  10000.000000  10000.000000  10000.000000   \n",
       "mean      12.609400  3.990166e+03      0.118858     24.687000   5352.157400   \n",
       "std        6.775974  2.005003e+05      0.119025     17.532614   4006.799803   \n",
       "min        0.000000  1.910000e+03      0.000000      0.000000    168.000000   \n",
       "25%        9.000000  1.974000e+03      0.017647      6.000000   1564.000000   \n",
       "50%       13.000000  1.977000e+03      0.075424     25.000000   5285.000000   \n",
       "75%       17.000000  2.001000e+03      0.195781     36.000000   7227.000000   \n",
       "max      117.000000  2.005201e+07      0.521867     74.000000  19083.000000   \n",
       "\n",
       "           Social_3  Healthcare_1   Helthcare_2       Shops_1          Price  \n",
       "count  10000.000000  10000.000000  10000.000000  10000.000000   10000.000000  \n",
       "mean       8.039200   1142.904460      1.319500      4.231300  214138.857399  \n",
       "std       23.831875    736.734238      1.493601      4.806341   92872.293865  \n",
       "min        0.000000      0.000000      0.000000      0.000000   59174.778028  \n",
       "25%        0.000000    830.000000      0.000000      1.000000  153872.633942  \n",
       "50%        2.000000   1142.904460      1.000000      3.000000  192269.644879  \n",
       "75%        5.000000   1142.904460      2.000000      6.000000  249135.462171  \n",
       "max      141.000000   4849.000000      6.000000     23.000000  633233.466570  "
      ]
     },
     "execution_count": 14,
     "metadata": {},
     "output_type": "execute_result"
    }
   ],
   "source": [
    "df_train.describe()"
   ]
  },
  {
   "cell_type": "markdown",
   "id": "648a956e",
   "metadata": {},
   "source": [
    "## Общая площадь (Square), жилая площадь (LifeSquare) и площадь кухонь (KitchenSquare)"
   ]
  },
  {
   "cell_type": "code",
   "execution_count": 15,
   "id": "6501439a",
   "metadata": {},
   "outputs": [
    {
     "data": {
      "text/plain": [
       "2.0     3880\n",
       "1.0     3705\n",
       "3.0     2235\n",
       "4.0      150\n",
       "5.0       18\n",
       "0.0        8\n",
       "10.0       2\n",
       "19.0       1\n",
       "6.0        1\n",
       "Name: Rooms, dtype: int64"
      ]
     },
     "execution_count": 15,
     "metadata": {},
     "output_type": "execute_result"
    }
   ],
   "source": [
    "df_train['Rooms'].value_counts()"
   ]
  },
  {
   "cell_type": "markdown",
   "id": "fae84698",
   "metadata": {},
   "source": [
    "Значение ноль выглядит как пропущенное при заполнении значение. 10 и 19 скорее всего ошибочны. <br>\n",
    "Поэтому заменим их на медианное значение."
   ]
  },
  {
   "cell_type": "code",
   "execution_count": 16,
   "id": "10d3f482",
   "metadata": {},
   "outputs": [],
   "source": [
    "df_train.loc[df_train['Rooms'].isin([0,10,19]),'Rooms']=df_train['Rooms'].median()"
   ]
  },
  {
   "cell_type": "markdown",
   "id": "7c9c4244",
   "metadata": {},
   "source": [
    "Удалим выбросы, оставив значения показателей площади, <br>\n",
    "жилой площади и площади кухни в диапазоне между 1 и 3 квартилем"
   ]
  },
  {
   "cell_type": "code",
   "execution_count": 17,
   "id": "5fabea9b",
   "metadata": {},
   "outputs": [],
   "source": [
    "df_train = df_train[(df_train['KitchenSquare'] > df_train['KitchenSquare'].quantile(0.025)) & (df_train['KitchenSquare'] < df_train['KitchenSquare'].quantile(0.975))]\n",
    "df_train = df_train[(df_train['Square'] > df_train['Square'].quantile(0.025)) & (df_train['Square'] < df_train['Square'].quantile(0.975))]\n",
    "df_train = df_train[(df_train['LifeSquare'] > df_train['LifeSquare'].quantile(0.025)) & (df_train['LifeSquare'] < df_train['LifeSquare'].quantile(0.975))]"
   ]
  },
  {
   "cell_type": "code",
   "execution_count": 18,
   "id": "d1d914d5",
   "metadata": {},
   "outputs": [
    {
     "name": "stdout",
     "output_type": "stream",
     "text": [
      "Число объектов сократилось до 8163\n"
     ]
    }
   ],
   "source": [
    "print(f'Число объектов сократилось до {df_train.shape[0]}')"
   ]
  },
  {
   "cell_type": "markdown",
   "id": "5d99af1b",
   "metadata": {},
   "source": [
    "## Число этажей в здании (HouseFloor) и этаж (Floor)"
   ]
  },
  {
   "cell_type": "code",
   "execution_count": 19,
   "id": "c5f571bf",
   "metadata": {},
   "outputs": [
    {
     "name": "stdout",
     "output_type": "stream",
     "text": [
      "[  0.   1.   2.   3.   4.   5.   6.   7.   8.   9.  10.  11.  12.  13.\n",
      "  14.  15.  16.  17.  18.  19.  20.  21.  22.  23.  24.  25.  26.  27.\n",
      "  29.  30.  32.  37.  40.  44.  45.  48.  99. 117.]\n",
      "[ 1  2  3  4  5  6  7  8  9 10 11 12 13 14 15 16 17 18 19 20 21 22 23 24\n",
      " 25 26 27 28 31 32 33 42]\n"
     ]
    }
   ],
   "source": [
    "print(df_train['HouseFloor'].sort_values().unique())\n",
    "print(df_train['Floor'].sort_values().unique())"
   ]
  },
  {
   "cell_type": "markdown",
   "id": "81fb4ff7",
   "metadata": {},
   "source": [
    "Видно, что в признаке HouseFloor присутствуют здания с 0 этажей. Заменим такие ошибочные значения на\n",
    "медиану"
   ]
  },
  {
   "cell_type": "code",
   "execution_count": 20,
   "id": "8b0bcd43",
   "metadata": {},
   "outputs": [],
   "source": [
    "df_train.loc[df_train['HouseFloor'] == 0, 'HouseFloor'] = df_train['HouseFloor'].median()"
   ]
  },
  {
   "cell_type": "markdown",
   "id": "350044f9",
   "metadata": {},
   "source": [
    "Этаж жилья не должен превышать число этажей в здании. Нет оснований приписывать этажу жилья какие либо определенные значения. <br> Поэтому заполним их случайными числами от 1 до этажности здания."
   ]
  },
  {
   "cell_type": "code",
   "execution_count": 21,
   "id": "82daf309",
   "metadata": {},
   "outputs": [],
   "source": [
    "out_floor = df_train.loc[df_train['Floor'] > df_train['HouseFloor']].index"
   ]
  },
  {
   "cell_type": "code",
   "execution_count": 22,
   "id": "20b375d4",
   "metadata": {},
   "outputs": [],
   "source": [
    "import random\n",
    "df_train.loc[out_floor,'Floor'] = df_train.loc[out_floor,'HouseFloor'].apply(lambda x: random.randint(1,x))"
   ]
  },
  {
   "cell_type": "markdown",
   "id": "2fc61c49",
   "metadata": {},
   "source": [
    "## Год постройки здания (HouseYear)\n",
    "Отсортируем и выведим на экран уникальные значения этого показателя"
   ]
  },
  {
   "cell_type": "code",
   "execution_count": 23,
   "id": "938fcb97",
   "metadata": {},
   "outputs": [
    {
     "data": {
      "text/plain": [
       "array([20052011,     4968,     2020,     2019,     2018,     2017,\n",
       "           2016,     2015,     2014,     2013], dtype=int64)"
      ]
     },
     "execution_count": 23,
     "metadata": {},
     "output_type": "execute_result"
    }
   ],
   "source": [
    "df_train['HouseYear'].sort_values(ascending = False).unique()[0:10]"
   ]
  },
  {
   "cell_type": "markdown",
   "id": "a7594c30",
   "metadata": {},
   "source": [
    "Присутствуют явно аномальнoe значениe. Год посройки здания не может превышать год сбора данных. Поэтому заменим такие значения на год сбора данных."
   ]
  },
  {
   "cell_type": "code",
   "execution_count": 24,
   "id": "4e597558",
   "metadata": {},
   "outputs": [],
   "source": [
    "df_train.loc[df_train['HouseYear'] > 2022,'HouseYear'] = 2022"
   ]
  },
  {
   "cell_type": "code",
   "execution_count": 25,
   "id": "b9d78a4a",
   "metadata": {},
   "outputs": [
    {
     "data": {
      "text/plain": [
       "array([2022, 2020, 2019, 2018, 2017, 2016, 2015, 2014, 2013, 2012],\n",
       "      dtype=int64)"
      ]
     },
     "execution_count": 25,
     "metadata": {},
     "output_type": "execute_result"
    }
   ],
   "source": [
    "df_train['HouseYear'].sort_values(ascending = False).unique()[0:10]"
   ]
  },
  {
   "cell_type": "markdown",
   "id": "fe033b09",
   "metadata": {},
   "source": [
    "## Категориальные признаки"
   ]
  },
  {
   "cell_type": "code",
   "execution_count": 26,
   "id": "0ed6bfbd",
   "metadata": {},
   "outputs": [
    {
     "data": {
      "text/plain": [
       "Index(['Id', 'DistrictId', 'Ecology_2', 'Ecology_3', 'Shops_2'], dtype='object')"
      ]
     },
     "execution_count": 26,
     "metadata": {},
     "output_type": "execute_result"
    }
   ],
   "source": [
    "df_train.select_dtypes(include = 'object').columns"
   ]
  },
  {
   "cell_type": "markdown",
   "id": "3c9b5f89",
   "metadata": {},
   "source": [
    "Всего пять категориальных признаков"
   ]
  },
  {
   "cell_type": "markdown",
   "id": "f9838057",
   "metadata": {},
   "source": [
    "Экологические показатели представлены признаками  Ecology_2 и Ecology_3"
   ]
  },
  {
   "cell_type": "code",
   "execution_count": 27,
   "id": "1c2c7bfb",
   "metadata": {},
   "outputs": [
    {
     "name": "stdout",
     "output_type": "stream",
     "text": [
      "Экологический показатель 2 \n",
      "B    8079\n",
      "A      84\n",
      "Name: Ecology_2, dtype: int64 \n",
      " --------------------\n",
      "Экологический показатель 3 \n",
      "B    7905\n",
      "A     258\n",
      "Name: Ecology_3, dtype: int64\n"
     ]
    }
   ],
   "source": [
    "print(f'Экологический показатель 2 \\n{df_train[\"Ecology_2\"].value_counts()} \\n {\"-\"*20}')\n",
    "print(f'Экологический показатель 3 \\n{df_train[\"Ecology_3\"].value_counts()}')"
   ]
  },
  {
   "cell_type": "markdown",
   "id": "eebb4678",
   "metadata": {},
   "source": [
    "Видно, что каждый из  экологических показателя принимают только  по два значения - А и B."
   ]
  },
  {
   "cell_type": "code",
   "execution_count": 28,
   "id": "73601a48",
   "metadata": {},
   "outputs": [
    {
     "name": "stdout",
     "output_type": "stream",
     "text": [
      "По отношению к близости магазина возможны также только два значения \n",
      "B    7609\n",
      "A     554\n",
      "Name: Shops_2, dtype: int64\n"
     ]
    }
   ],
   "source": [
    "print(f'По отношению к близости магазина возможны также только два значения \\n{df_train[\"Shops_2\"].value_counts()}')"
   ]
  },
  {
   "cell_type": "markdown",
   "id": "364d23b9",
   "metadata": {},
   "source": [
    "Для удобство сделаем замену числовых значений А и B Их числовыми эквивалентами 1 и 0."
   ]
  },
  {
   "cell_type": "code",
   "execution_count": 29,
   "id": "cf8f26a0",
   "metadata": {},
   "outputs": [],
   "source": [
    "df_train['Ecology_2'].replace({'A':0, 'B':1},inplace=True)\n",
    "df_train['Ecology_3'].replace({'A':0, 'B':1},inplace=True)\n",
    "df_train['Shops_2'].replace({'A':0, 'B':1},inplace=True)"
   ]
  },
  {
   "cell_type": "markdown",
   "id": "78423864",
   "metadata": {},
   "source": [
    " Рассмотрим иденификаторы районов"
   ]
  },
  {
   "cell_type": "code",
   "execution_count": 30,
   "id": "ed0a8d6e",
   "metadata": {},
   "outputs": [
    {
     "name": "stdout",
     "output_type": "stream",
     "text": [
      "Всего 204 идентификторов района\n"
     ]
    }
   ],
   "source": [
    "print(f\"Всего {len(df_train['DistrictId'].value_counts())} идентификторов района\")\n"
   ]
  },
  {
   "cell_type": "code",
   "execution_count": 31,
   "id": "bd99c0e9",
   "metadata": {},
   "outputs": [
    {
     "name": "stdout",
     "output_type": "stream",
     "text": [
      "Из них наибольшее колличество жилья находится в следующих пяти районах\n"
     ]
    },
    {
     "data": {
      "text/plain": [
       "27    554\n",
       "1     504\n",
       "23    391\n",
       "6     338\n",
       "9     261\n",
       "Name: DistrictId, dtype: int64"
      ]
     },
     "execution_count": 31,
     "metadata": {},
     "output_type": "execute_result"
    }
   ],
   "source": [
    "print('Из них наибольшее колличество жилья находится в следующих пяти районах')\n",
    "df_train['DistrictId'].value_counts().head(5)"
   ]
  },
  {
   "cell_type": "code",
   "execution_count": 32,
   "id": "3c4b2f64",
   "metadata": {},
   "outputs": [
    {
     "name": "stdout",
     "output_type": "stream",
     "text": [
      "['Id', 'DistrictId', 'Rooms', 'Square', 'LifeSquare', 'KitchenSquare', 'Floor', 'HouseFloor', 'HouseYear', 'Ecology_1', 'Ecology_2', 'Ecology_3', 'Social_1', 'Social_2', 'Social_3', 'Healthcare_1', 'Helthcare_2', 'Shops_1', 'Shops_2', 'Price']\n"
     ]
    }
   ],
   "source": [
    "print(df_train.columns.to_list())"
   ]
  },
  {
   "cell_type": "code",
   "execution_count": 33,
   "id": "b56d48e7",
   "metadata": {},
   "outputs": [],
   "source": [
    "feature_names=['Rooms', 'Square', 'LifeSquare', 'KitchenSquare', 'Floor', 'HouseFloor', 'HouseYear', 'Ecology_1', 'Ecology_2', 'Ecology_3', 'Social_1', 'Social_2', 'Social_3', 'Healthcare_1', 'Helthcare_2', 'Shops_1', 'Shops_2']\n",
    "target_name='Price' # целевая перемаенная"
   ]
  },
  {
   "cell_type": "code",
   "execution_count": 34,
   "id": "46bbdba7",
   "metadata": {},
   "outputs": [],
   "source": [
    "X = df_train[feature_names]\n",
    "y=df_train[target_name]"
   ]
  },
  {
   "cell_type": "markdown",
   "id": "676f6340",
   "metadata": {},
   "source": [
    "## Подготовка  тестовой выборки"
   ]
  },
  {
   "cell_type": "code",
   "execution_count": 35,
   "id": "3719bab1",
   "metadata": {},
   "outputs": [
    {
     "name": "stdout",
     "output_type": "stream",
     "text": [
      "['Id', 'DistrictId', 'Rooms', 'Square', 'LifeSquare', 'KitchenSquare', 'Floor', 'HouseFloor', 'HouseYear', 'Ecology_1', 'Ecology_2', 'Ecology_3', 'Social_1', 'Social_2', 'Social_3', 'Healthcare_1', 'Helthcare_2', 'Shops_1', 'Shops_2']\n"
     ]
    }
   ],
   "source": [
    "print(X_test.columns.to_list())"
   ]
  },
  {
   "cell_type": "markdown",
   "id": "b03b2c26",
   "metadata": {},
   "source": [
    "В тестовой выборке количество признаков отличается от количества признаков в обучающей выборке. Из дополнительных данных Обучающей таблицы таблицы интерес представляет только медианная оценка стоимости, которую и добавим.\n",
    "Также сделаем замену значений категориальные признаков"
   ]
  },
  {
   "cell_type": "markdown",
   "id": "31b8f5fe",
   "metadata": {},
   "source": [
    "### Преобразование категориальных признаков"
   ]
  },
  {
   "cell_type": "code",
   "execution_count": 36,
   "id": "69031540",
   "metadata": {},
   "outputs": [],
   "source": [
    "X_test['Ecology_2'].replace({'A':0, 'B':1},inplace=True)\n",
    "X_test['Ecology_3'].replace({'A':0, 'B':1},inplace=True)\n",
    "X_test['Shops_2'].replace({'A':0, 'B':1},inplace=True)"
   ]
  },
  {
   "cell_type": "markdown",
   "id": "1a8c41ed",
   "metadata": {},
   "source": [
    "## Преобразование типов"
   ]
  },
  {
   "cell_type": "code",
   "execution_count": 37,
   "id": "c7380c45",
   "metadata": {},
   "outputs": [],
   "source": [
    "X_test['Id'] = X_test['Id'].astype('str')\n",
    "X_test['DistrictId'] = X_test['DistrictId'].astype('str');"
   ]
  },
  {
   "cell_type": "markdown",
   "id": "d0172f24",
   "metadata": {},
   "source": [
    "## Удаление пропусков"
   ]
  },
  {
   "cell_type": "code",
   "execution_count": 38,
   "id": "7c95644b",
   "metadata": {},
   "outputs": [
    {
     "name": "stdout",
     "output_type": "stream",
     "text": [
      "True\n",
      "[True, True, True, True, True, True, True, True, True, True, True, True, True, True, True, True, True]\n"
     ]
    }
   ],
   "source": [
    "X_test.loc[X_test['LifeSquare'].isnull(), 'LifeSquare'] = \\\n",
    "                                              (X_test.loc[X_test['LifeSquare'].isnull(), 'Square'] - \\\n",
    "                                               X_test.loc[X_test['LifeSquare'].isnull(), 'KitchenSquare']).mean()\n",
    "X_test.loc[X_test['Healthcare_1'].isnull(), 'Healthcare_1'] = \\\n",
    "                                      (X_test.loc[X_test['Healthcare_1'].notnull(), 'Healthcare_1']).mean()\n",
    "X_test=X_test[feature_names];\n",
    "print(X.columns.to_list() == X_test.columns.to_list())\n",
    "print((X.dtypes == X_test.dtypes).to_list())"
   ]
  },
  {
   "cell_type": "markdown",
   "id": "988974df",
   "metadata": {},
   "source": [
    "Таблица с тестовыми данными готова"
   ]
  },
  {
   "cell_type": "markdown",
   "id": "992b4d08",
   "metadata": {},
   "source": [
    "## Создание таблиц с обучающими и валидационными признаками"
   ]
  },
  {
   "cell_type": "code",
   "execution_count": 39,
   "id": "ca273fea",
   "metadata": {},
   "outputs": [],
   "source": [
    "from sklearn.model_selection import train_test_split\n",
    "from sklearn.preprocessing import StandardScaler"
   ]
  },
  {
   "cell_type": "markdown",
   "id": "e5b9ceba",
   "metadata": {},
   "source": [
    "Разбиение данных на тренировочную и тестовую выборку можно выполнить с помощью функции train_test_split из модуля sklearn.model_selection"
   ]
  },
  {
   "cell_type": "code",
   "execution_count": 40,
   "id": "9c52738b",
   "metadata": {},
   "outputs": [],
   "source": [
    "X_train, X_val, y_train, y_val = train_test_split(X, y, test_size=0.25,shuffle=True, random_state=30)"
   ]
  },
  {
   "cell_type": "markdown",
   "id": "9790ae06",
   "metadata": {},
   "source": [
    "## Стандартизация признаков \n",
    "Некоторые модели чувствительны к разнличному масштабу признаков. Поэтом выполним эту процедуру."
   ]
  },
  {
   "cell_type": "code",
   "execution_count": 41,
   "id": "8da1941d",
   "metadata": {},
   "outputs": [],
   "source": [
    "Scaler = StandardScaler()\n",
    "X_train_scaler = pd.DataFrame(Scaler.fit_transform(X_train), columns = feature_names)\n",
    "X_val_scaler = pd.DataFrame(Scaler.transform(X_val), columns = feature_names)\n",
    "X_test_scaler = pd.DataFrame(Scaler.transform(X_test), columns = feature_names)"
   ]
  },
  {
   "cell_type": "markdown",
   "id": "6d7c14a4",
   "metadata": {},
   "source": [
    "# Поиск лучшей модели"
   ]
  },
  {
   "cell_type": "markdown",
   "id": "ee2dbab2",
   "metadata": {},
   "source": [
    "Поиск лучшей модели будет производится, путем сравнения результатов предсказания алгоритма линейной регрессии и модель ансамбль деревьев решений. Оценка качества будет оцениваться по метрике R2 - коэффициент детерминации."
   ]
  },
  {
   "cell_type": "code",
   "execution_count": 42,
   "id": "5183fbc3",
   "metadata": {},
   "outputs": [],
   "source": [
    "from sklearn.linear_model import LinearRegression\n",
    "from sklearn.ensemble import RandomForestRegressor\n",
    "from sklearn.metrics import r2_score as r2 # метрика качества"
   ]
  },
  {
   "cell_type": "markdown",
   "id": "05201b00",
   "metadata": {},
   "source": [
    "Функция для оценки качества модели"
   ]
  },
  {
   "cell_type": "code",
   "execution_count": 43,
   "id": "b9ba529d",
   "metadata": {},
   "outputs": [],
   "source": [
    "def evaluate_preds(true_values, pred_values, save=False):\n",
    "    \n",
    "    print(\"R2:\\t\" + str(round(r2(true_values, pred_values), 3))          )\n",
    "    \n",
    "    plt.figure(figsize=(8,8))\n",
    "    \n",
    "    sns.scatterplot(x=pred_values, y=true_values)\n",
    "    plt.plot([0, 500000], [0, 500000], linestyle='--', color='black')  # диагональ, где true_values = pred_values\n",
    "    \n",
    "    plt.xlabel('Predicted values')\n",
    "    plt.ylabel('True values')\n",
    "    plt.title('True vs Predicted values')\n",
    "    \n",
    "    if save == True:\n",
    "        plt.savefig(REPORTS_FILE_PATH + 'report.png')\n",
    "    plt.show()"
   ]
  },
  {
   "cell_type": "markdown",
   "id": "3650ea1e",
   "metadata": {},
   "source": [
    "## Линейная регрессия регрессия"
   ]
  },
  {
   "cell_type": "code",
   "execution_count": 44,
   "id": "039d3338",
   "metadata": {},
   "outputs": [
    {
     "name": "stdout",
     "output_type": "stream",
     "text": [
      "0.4989057065473247\n",
      "0.49992055444528105\n"
     ]
    }
   ],
   "source": [
    "linreg = LinearRegression()\n",
    "linreg.fit(X_train_scaler, y_train) #обучим модель\n",
    "y_train_pred =  linreg.predict(X_train_scaler)\n",
    "y_val_pred = linreg.predict(X_val_scaler)\n",
    "print(r2(y_train, y_train_pred ))\n",
    "print(r2(y_val, y_val_pred ))\n",
    "#X_train, X_val, y_train, y_val"
   ]
  },
  {
   "cell_type": "markdown",
   "id": "114c67fd",
   "metadata": {},
   "source": [
    "### Ансамбль деревьев решений. \n",
    "Для каждого обучаемого дерева решений создаётся подвыборка из исходной тренировочной выборки. \"Побеждает\" решение, за которое \"проголосовало\" наибольшее число деревьев. Оптимизирумые параметры    n_estimators - число деревьев в ансамбле,    max_features - максимальное число признаков, которое может быть использовано при построении каждого дерева,  max_depth - максимальная глубина дерева. Оптимизация проводилась путем поиска по сетке (код закоментирован). Перебираются все возможные комбинации передаваемых в GridSearchCV параметров и ищутся лучшие\n"
   ]
  },
  {
   "cell_type": "code",
   "execution_count": 45,
   "id": "5524de5f",
   "metadata": {},
   "outputs": [],
   "source": [
    "rf_model = RandomForestRegressor( random_state  = 10)"
   ]
  },
  {
   "cell_type": "code",
   "execution_count": 63,
   "id": "f17e4203",
   "metadata": {},
   "outputs": [],
   "source": [
    "'''from sklearn.model_selection import GridSearchCV\n",
    "parameters = {\n",
    "    'n_estimators': [150, 200, 250],\n",
    "    'max_features': np.arange(5, 9),\n",
    "    'max_depth': np.arange(5, 10),\n",
    "}\n",
    "\n",
    "clf = GridSearchCV(\n",
    "    estimator=rf_model,\n",
    "    param_grid=parameters,\n",
    "    scoring='r2',\n",
    "    cv=5\n",
    ")\n",
    "clf.fit(X_train_scaler, y_train)\n",
    "clf.best_params_\n",
    "'max_depth': 9, 'max_features': 8, 'n_estimators': 150\n",
    "''';"
   ]
  },
  {
   "cell_type": "markdown",
   "id": "99068248",
   "metadata": {},
   "source": [
    "Создаем модель c оптимизированными параметрами и обучим ее на тренировочной выборке. Проведем валидацию модели."
   ]
  },
  {
   "cell_type": "code",
   "execution_count": 84,
   "id": "b6d9db77",
   "metadata": {},
   "outputs": [],
   "source": [
    "rf_model = RandomForestRegressor( random_state  = 10, max_depth =  9, max_features = 8, n_estimators = 150) \n",
    "rf_model.fit(X_train_scaler,y_train);"
   ]
  },
  {
   "cell_type": "markdown",
   "id": "18ec691f",
   "metadata": {},
   "source": [
    "Выполним предсказание для тестовой и обучающей выборки"
   ]
  },
  {
   "cell_type": "code",
   "execution_count": 81,
   "id": "1d85c349",
   "metadata": {},
   "outputs": [],
   "source": [
    "y_train_pred = rf_model.predict(X_train_scaler)\n",
    "y_val_pred = rf_model.predict(X_val_scaler)"
   ]
  },
  {
   "cell_type": "code",
   "execution_count": 82,
   "id": "26eed315",
   "metadata": {},
   "outputs": [
    {
     "name": "stdout",
     "output_type": "stream",
     "text": [
      "R2:\t0.956\n"
     ]
    },
    {
     "data": {
      "image/png": "[encoded data removed]",
      "text/plain": [
       "<Figure size 576x576 with 1 Axes>"
      ]
     },
     "metadata": {},
     "output_type": "display_data"
    }
   ],
   "source": [
    "evaluate_preds(y_train, y_train_pred)"
   ]
  },
  {
   "cell_type": "markdown",
   "id": "de04c18a",
   "metadata": {},
   "source": [
    "На обучающей выборке модель показала хороший результат.  Наблюдается высокая корреляция между предсказанными и истинными данными"
   ]
  },
  {
   "cell_type": "code",
   "execution_count": 83,
   "id": "fc6c4b55",
   "metadata": {},
   "outputs": [
    {
     "name": "stdout",
     "output_type": "stream",
     "text": [
      "R2:\t0.695\n"
     ]
    },
    {
     "data": {
      "image/png": "[encoded data removed]",
      "text/plain": [
       "<Figure size 576x576 with 1 Axes>"
      ]
     },
     "metadata": {},
     "output_type": "display_data"
    }
   ],
   "source": [
    "evaluate_preds(y_val, y_val_pred)"
   ]
  },
  {
   "cell_type": "markdown",
   "id": "623583b3",
   "metadata": {},
   "source": [
    "На валидационной выборке модель показала удовлетворительный результат. Точность по метрике R2 превышает 0.6\n",
    "Осуществим прогноз для загруженных тестовых данных"
   ]
  },
  {
   "cell_type": "code",
   "execution_count": 51,
   "id": "dad9ae91",
   "metadata": {},
   "outputs": [],
   "source": [
    "y_pred_test = rf_model.predict(X_test_scaler)\n"
   ]
  },
  {
   "cell_type": "code",
   "execution_count": 52,
   "id": "7a16f584",
   "metadata": {},
   "outputs": [],
   "source": [
    "pred_data_fr = pd.DataFrame(y_pred_test, columns=['Price',], index=id_out )"
   ]
  },
  {
   "cell_type": "markdown",
   "id": "4e34b10e",
   "metadata": {},
   "source": [
    "Сохраним прогноз в CSV файл"
   ]
  },
  {
   "cell_type": "code",
   "execution_count": 53,
   "id": "db366e97",
   "metadata": {},
   "outputs": [],
   "source": [
    "pred_data_fr.to_csv('my_pred_for_price_n.csv')\n"
   ]
  }
 ],
 "metadata": {
  "kernelspec": {
   "display_name": "Python 3 (ipykernel)",
   "language": "python",
   "name": "python3"
  },
  "language_info": {
   "codemirror_mode": {
    "name": "ipython",
    "version": 3
   },
   "file_extension": ".py",
   "mimetype": "text/x-python",
   "name": "python",
   "nbconvert_exporter": "python",
   "pygments_lexer": "ipython3",
   "version": "3.9.12"
  }
 },
 "nbformat": 4,
 "nbformat_minor": 5
}
